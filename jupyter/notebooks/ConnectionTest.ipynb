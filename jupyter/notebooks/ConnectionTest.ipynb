{
 "cells": [
  {
   "cell_type": "code",
   "execution_count": 1,
   "id": "d1b4f5e1-7bb5-4ae1-bee7-450c1a447d33",
   "metadata": {},
   "outputs": [],
   "source": [
    "import pandas as pd\n",
    "import requests"
   ]
  },
  {
   "cell_type": "code",
   "execution_count": 3,
   "id": "80deb84a-8afa-4d28-bde9-2e3de67dcb97",
   "metadata": {},
   "outputs": [],
   "source": [
    "url = \"http://etl_flask:5000/get_data?limit=10000\"\n",
    "response = requests.get(url)"
   ]
  },
  {
   "cell_type": "code",
   "execution_count": 4,
   "id": "86da9642-5d82-44f1-94f8-30b8f98cf0e2",
   "metadata": {},
   "outputs": [
    {
     "data": {
      "text/plain": [
       "<Response [200]>"
      ]
     },
     "execution_count": 4,
     "metadata": {},
     "output_type": "execute_result"
    }
   ],
   "source": [
    "response"
   ]
  },
  {
   "cell_type": "code",
   "execution_count": 7,
   "id": "486ac113-7a50-4099-b240-aae2d1639059",
   "metadata": {},
   "outputs": [],
   "source": [
    "if response.status_code == 200:  # Check if the request was successful\n",
    "    data = response.json() \n",
    "else:\n",
    "    print(f\"Failed to fetch data: {response.status_code}\")\n",
    "    data = {}\n",
    "\n",
    "if data:\n",
    "    df = pd.DataFrame(data)"
   ]
  },
  {
   "cell_type": "code",
   "execution_count": 8,
   "id": "d66a4588-9f9f-4aec-afad-0dabe681908d",
   "metadata": {
    "scrolled": true
   },
   "outputs": [
    {
     "data": {
      "text/plain": [
       "Event distance/length\n",
       "80km                1947\n",
       "50km                1424\n",
       "46km                1034\n",
       "52.6km               876\n",
       "45km                 462\n",
       "6h                   459\n",
       "12h                  405\n",
       "58km                 323\n",
       "48.2km               272\n",
       "52.9km               266\n",
       "100km                261\n",
       "196km/4Etappen       244\n",
       "30mi                 191\n",
       "8h                   184\n",
       "100mi                156\n",
       "24h                  138\n",
       "60km                 131\n",
       "63km                 111\n",
       "90km/3Etappen        109\n",
       "50mi                 105\n",
       "82km                  96\n",
       "55km                  96\n",
       "94.9km/2Etappen       66\n",
       "41mi                  63\n",
       "53km                  61\n",
       "33mi                  57\n",
       "49km                  57\n",
       "125km/3Etappen        53\n",
       "170km                 39\n",
       "28mi                  34\n",
       "164km                 33\n",
       "104km                 32\n",
       "5:40h                 24\n",
       "63.9km                24\n",
       "300km                 23\n",
       "45.6km                21\n",
       "120km                 20\n",
       "9h                    17\n",
       "48.5km                12\n",
       "48h                   12\n",
       "51km                  11\n",
       "102km                  9\n",
       "150km                  9\n",
       "95km                   8\n",
       "67km                   6\n",
       "59.9km                 6\n",
       "201km                  5\n",
       "40mi                   4\n",
       "1397km/17Etappen       2\n",
       "70km                   1\n",
       "60mi                   1\n",
       "Name: count, dtype: int64"
      ]
     },
     "execution_count": 8,
     "metadata": {},
     "output_type": "execute_result"
    }
   ],
   "source": [
    "df['Event distance/length'].value_counts()"
   ]
  },
  {
   "cell_type": "code",
   "execution_count": 9,
   "id": "b88fdedc-fc0a-4a4f-83a8-01fcd1046ab6",
   "metadata": {},
   "outputs": [
    {
     "data": {
      "text/html": [
       "<div>\n",
       "<style scoped>\n",
       "    .dataframe tbody tr th:only-of-type {\n",
       "        vertical-align: middle;\n",
       "    }\n",
       "\n",
       "    .dataframe tbody tr th {\n",
       "        vertical-align: top;\n",
       "    }\n",
       "\n",
       "    .dataframe thead th {\n",
       "        text-align: right;\n",
       "    }\n",
       "</style>\n",
       "<table border=\"1\" class=\"dataframe\">\n",
       "  <thead>\n",
       "    <tr style=\"text-align: right;\">\n",
       "      <th></th>\n",
       "      <th>Athlete ID</th>\n",
       "      <th>Athlete age category</th>\n",
       "      <th>Athlete average speed</th>\n",
       "      <th>Athlete club</th>\n",
       "      <th>Athlete country</th>\n",
       "      <th>Athlete gender</th>\n",
       "      <th>Athlete performance</th>\n",
       "      <th>Athlete year of birth</th>\n",
       "      <th>Event dates</th>\n",
       "      <th>Event distance/length</th>\n",
       "      <th>Event name</th>\n",
       "      <th>Event number of finishers</th>\n",
       "      <th>Year of event</th>\n",
       "    </tr>\n",
       "  </thead>\n",
       "  <tbody>\n",
       "    <tr>\n",
       "      <th>8251</th>\n",
       "      <td>7569</td>\n",
       "      <td>M23</td>\n",
       "      <td>7.995</td>\n",
       "      <td>*Hillcrest</td>\n",
       "      <td>RSA</td>\n",
       "      <td>M</td>\n",
       "      <td>10:00:24 h</td>\n",
       "      <td>1991.0</td>\n",
       "      <td>17.-18.03.2018</td>\n",
       "      <td>80km</td>\n",
       "      <td>EcoTrail de Paris - Ile de France 80 km (FRA)</td>\n",
       "      <td>1695</td>\n",
       "      <td>2018</td>\n",
       "    </tr>\n",
       "    <tr>\n",
       "      <th>9501</th>\n",
       "      <td>8808</td>\n",
       "      <td>M35</td>\n",
       "      <td>8.441</td>\n",
       "      <td>None</td>\n",
       "      <td>RSA</td>\n",
       "      <td>M</td>\n",
       "      <td>101.286 km</td>\n",
       "      <td>1979.0</td>\n",
       "      <td>17.03.2018</td>\n",
       "      <td>12h</td>\n",
       "      <td>Canberra 12hr Race (AUS)</td>\n",
       "      <td>15</td>\n",
       "      <td>2018</td>\n",
       "    </tr>\n",
       "  </tbody>\n",
       "</table>\n",
       "</div>"
      ],
      "text/plain": [
       "      Athlete ID Athlete age category Athlete average speed Athlete club  \\\n",
       "8251        7569                  M23                 7.995   *Hillcrest   \n",
       "9501        8808                  M35                 8.441         None   \n",
       "\n",
       "     Athlete country Athlete gender Athlete performance  \\\n",
       "8251             RSA              M          10:00:24 h   \n",
       "9501             RSA              M          101.286 km   \n",
       "\n",
       "      Athlete year of birth     Event dates Event distance/length  \\\n",
       "8251                 1991.0  17.-18.03.2018                  80km   \n",
       "9501                 1979.0      17.03.2018                   12h   \n",
       "\n",
       "                                         Event name  \\\n",
       "8251  EcoTrail de Paris - Ile de France 80 km (FRA)   \n",
       "9501                       Canberra 12hr Race (AUS)   \n",
       "\n",
       "      Event number of finishers  Year of event  \n",
       "8251                       1695           2018  \n",
       "9501                         15           2018  "
      ]
     },
     "execution_count": 9,
     "metadata": {},
     "output_type": "execute_result"
    }
   ],
   "source": [
    "df[df['Athlete country']=='RSA']"
   ]
  },
  {
   "cell_type": "code",
   "execution_count": null,
   "id": "95adfaab-5237-415a-b4ac-61d545829175",
   "metadata": {},
   "outputs": [],
   "source": []
  }
 ],
 "metadata": {
  "kernelspec": {
   "display_name": "Python 3 (ipykernel)",
   "language": "python",
   "name": "python3"
  },
  "language_info": {
   "codemirror_mode": {
    "name": "ipython",
    "version": 3
   },
   "file_extension": ".py",
   "mimetype": "text/x-python",
   "name": "python",
   "nbconvert_exporter": "python",
   "pygments_lexer": "ipython3",
   "version": "3.11.6"
  }
 },
 "nbformat": 4,
 "nbformat_minor": 5
}
